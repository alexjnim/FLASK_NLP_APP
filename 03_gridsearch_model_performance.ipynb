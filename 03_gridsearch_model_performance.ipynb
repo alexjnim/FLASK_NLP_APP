{
 "cells": [
  {
   "cell_type": "markdown",
   "metadata": {},
   "source": [
    "according to the results from \"02_model_training\", Linear SVC seemed to perform the best"
   ]
  },
  {
   "cell_type": "code",
   "execution_count": 2,
   "metadata": {},
   "outputs": [],
   "source": [
    "import numpy as np\n",
    "import resources.text_normalizer as tn\n",
    "import matplotlib.pyplot as plt\n",
    "import pandas as pd\n",
    "import warnings\n",
    "warnings.filterwarnings('ignore')\n",
    "%matplotlib inline\n",
    "\n",
    "data_df = pd.read_csv('CLASSIFIER/data/cleaned_all_data.csv')"
   ]
  },
  {
   "cell_type": "code",
   "execution_count": 3,
   "metadata": {},
   "outputs": [
    {
     "data": {
      "text/plain": [
       "((8238,), (3531,))"
      ]
     },
     "execution_count": 3,
     "metadata": {},
     "output_type": "execute_result"
    }
   ],
   "source": [
    "from sklearn.model_selection import train_test_split\n",
    "\n",
    "train_corpus, test_corpus, train_label_nums, test_label_nums, train_label_names, test_label_names = train_test_split(\n",
    "    np.array(data_df['clean text']),\n",
    "                                         np.array(data_df['category label']),\n",
    "                                         np.array(data_df['category']),\n",
    "                                         test_size=0.30, random_state=42)\n",
    "train_corpus.shape, test_corpus.shape"
   ]
  },
  {
   "cell_type": "code",
   "execution_count": 4,
   "metadata": {},
   "outputs": [
    {
     "data": {
      "text/html": [
       "<div>\n",
       "<style scoped>\n",
       "    .dataframe tbody tr th:only-of-type {\n",
       "        vertical-align: middle;\n",
       "    }\n",
       "\n",
       "    .dataframe tbody tr th {\n",
       "        vertical-align: top;\n",
       "    }\n",
       "\n",
       "    .dataframe thead th {\n",
       "        text-align: right;\n",
       "    }\n",
       "</style>\n",
       "<table border=\"1\" class=\"dataframe\">\n",
       "  <thead>\n",
       "    <tr style=\"text-align: right;\">\n",
       "      <th></th>\n",
       "      <th>category</th>\n",
       "      <th>Train Count</th>\n",
       "      <th>Test Count</th>\n",
       "    </tr>\n",
       "  </thead>\n",
       "  <tbody>\n",
       "    <tr>\n",
       "      <th>1</th>\n",
       "      <td>tech</td>\n",
       "      <td>2375</td>\n",
       "      <td>1040</td>\n",
       "    </tr>\n",
       "    <tr>\n",
       "      <th>2</th>\n",
       "      <td>entertainment</td>\n",
       "      <td>1873</td>\n",
       "      <td>776</td>\n",
       "    </tr>\n",
       "    <tr>\n",
       "      <th>3</th>\n",
       "      <td>politics</td>\n",
       "      <td>1719</td>\n",
       "      <td>752</td>\n",
       "    </tr>\n",
       "    <tr>\n",
       "      <th>0</th>\n",
       "      <td>business</td>\n",
       "      <td>1581</td>\n",
       "      <td>655</td>\n",
       "    </tr>\n",
       "    <tr>\n",
       "      <th>4</th>\n",
       "      <td>sport</td>\n",
       "      <td>690</td>\n",
       "      <td>308</td>\n",
       "    </tr>\n",
       "  </tbody>\n",
       "</table>\n",
       "</div>"
      ],
      "text/plain": [
       "        category  Train Count  Test Count\n",
       "1           tech         2375        1040\n",
       "2  entertainment         1873         776\n",
       "3       politics         1719         752\n",
       "0       business         1581         655\n",
       "4          sport          690         308"
      ]
     },
     "execution_count": 4,
     "metadata": {},
     "output_type": "execute_result"
    }
   ],
   "source": [
    "from collections import Counter\n",
    "trd = dict(Counter(train_label_names))\n",
    "tsd = dict(Counter(test_label_names))\n",
    "(pd.DataFrame([[key, trd[key], tsd[key]] for key in trd],\n",
    "             columns=['category', 'Train Count', 'Test Count'])\n",
    ".sort_values(by=['Train Count', 'Test Count'],\n",
    "             ascending=False))"
   ]
  },
  {
   "cell_type": "markdown",
   "metadata": {},
   "source": [
    "### gridsearch pipeline with linear svc and tf-idf"
   ]
  },
  {
   "cell_type": "code",
   "execution_count": 5,
   "metadata": {},
   "outputs": [
    {
     "name": "stdout",
     "output_type": "stream",
     "text": [
      "Fitting 5 folds for each of 12 candidates, totalling 60 fits\n",
      "[CV] svm__C=0.5, svm__penalty=l1, tfidf__ngram_range=(1, 1) ..........\n"
     ]
    },
    {
     "name": "stderr",
     "output_type": "stream",
     "text": [
      "[Parallel(n_jobs=1)]: Using backend SequentialBackend with 1 concurrent workers.\n"
     ]
    },
    {
     "name": "stdout",
     "output_type": "stream",
     "text": [
      "[CV]  svm__C=0.5, svm__penalty=l1, tfidf__ngram_range=(1, 1), total=   0.5s\n",
      "[CV] svm__C=0.5, svm__penalty=l1, tfidf__ngram_range=(1, 1) ..........\n"
     ]
    },
    {
     "name": "stderr",
     "output_type": "stream",
     "text": [
      "[Parallel(n_jobs=1)]: Done   1 out of   1 | elapsed:    0.5s remaining:    0.0s\n"
     ]
    },
    {
     "name": "stdout",
     "output_type": "stream",
     "text": [
      "[CV]  svm__C=0.5, svm__penalty=l1, tfidf__ngram_range=(1, 1), total=   0.6s\n",
      "[CV] svm__C=0.5, svm__penalty=l1, tfidf__ngram_range=(1, 1) ..........\n",
      "[CV]  svm__C=0.5, svm__penalty=l1, tfidf__ngram_range=(1, 1), total=   0.5s\n",
      "[CV] svm__C=0.5, svm__penalty=l1, tfidf__ngram_range=(1, 1) ..........\n",
      "[CV]  svm__C=0.5, svm__penalty=l1, tfidf__ngram_range=(1, 1), total=   0.5s\n",
      "[CV] svm__C=0.5, svm__penalty=l1, tfidf__ngram_range=(1, 1) ..........\n",
      "[CV]  svm__C=0.5, svm__penalty=l1, tfidf__ngram_range=(1, 1), total=   0.5s\n",
      "[CV] svm__C=0.5, svm__penalty=l1, tfidf__ngram_range=(1, 2) ..........\n",
      "[CV]  svm__C=0.5, svm__penalty=l1, tfidf__ngram_range=(1, 2), total=   2.5s\n",
      "[CV] svm__C=0.5, svm__penalty=l1, tfidf__ngram_range=(1, 2) ..........\n",
      "[CV]  svm__C=0.5, svm__penalty=l1, tfidf__ngram_range=(1, 2), total=   2.4s\n",
      "[CV] svm__C=0.5, svm__penalty=l1, tfidf__ngram_range=(1, 2) ..........\n",
      "[CV]  svm__C=0.5, svm__penalty=l1, tfidf__ngram_range=(1, 2), total=   2.5s\n",
      "[CV] svm__C=0.5, svm__penalty=l1, tfidf__ngram_range=(1, 2) ..........\n",
      "[CV]  svm__C=0.5, svm__penalty=l1, tfidf__ngram_range=(1, 2), total=   2.4s\n",
      "[CV] svm__C=0.5, svm__penalty=l1, tfidf__ngram_range=(1, 2) ..........\n",
      "[CV]  svm__C=0.5, svm__penalty=l1, tfidf__ngram_range=(1, 2), total=   2.4s\n",
      "[CV] svm__C=0.5, svm__penalty=l2, tfidf__ngram_range=(1, 1) ..........\n",
      "[CV]  svm__C=0.5, svm__penalty=l2, tfidf__ngram_range=(1, 1), total=   0.7s\n",
      "[CV] svm__C=0.5, svm__penalty=l2, tfidf__ngram_range=(1, 1) ..........\n",
      "[CV]  svm__C=0.5, svm__penalty=l2, tfidf__ngram_range=(1, 1), total=   0.7s\n",
      "[CV] svm__C=0.5, svm__penalty=l2, tfidf__ngram_range=(1, 1) ..........\n",
      "[CV]  svm__C=0.5, svm__penalty=l2, tfidf__ngram_range=(1, 1), total=   0.7s\n",
      "[CV] svm__C=0.5, svm__penalty=l2, tfidf__ngram_range=(1, 1) ..........\n",
      "[CV]  svm__C=0.5, svm__penalty=l2, tfidf__ngram_range=(1, 1), total=   0.7s\n",
      "[CV] svm__C=0.5, svm__penalty=l2, tfidf__ngram_range=(1, 1) ..........\n",
      "[CV]  svm__C=0.5, svm__penalty=l2, tfidf__ngram_range=(1, 1), total=   0.7s\n",
      "[CV] svm__C=0.5, svm__penalty=l2, tfidf__ngram_range=(1, 2) ..........\n",
      "[CV]  svm__C=0.5, svm__penalty=l2, tfidf__ngram_range=(1, 2), total=   3.1s\n",
      "[CV] svm__C=0.5, svm__penalty=l2, tfidf__ngram_range=(1, 2) ..........\n",
      "[CV]  svm__C=0.5, svm__penalty=l2, tfidf__ngram_range=(1, 2), total=   3.1s\n",
      "[CV] svm__C=0.5, svm__penalty=l2, tfidf__ngram_range=(1, 2) ..........\n",
      "[CV]  svm__C=0.5, svm__penalty=l2, tfidf__ngram_range=(1, 2), total=   3.0s\n",
      "[CV] svm__C=0.5, svm__penalty=l2, tfidf__ngram_range=(1, 2) ..........\n",
      "[CV]  svm__C=0.5, svm__penalty=l2, tfidf__ngram_range=(1, 2), total=   3.0s\n",
      "[CV] svm__C=0.5, svm__penalty=l2, tfidf__ngram_range=(1, 2) ..........\n",
      "[CV]  svm__C=0.5, svm__penalty=l2, tfidf__ngram_range=(1, 2), total=   3.0s\n",
      "[CV] svm__C=1.0, svm__penalty=l1, tfidf__ngram_range=(1, 1) ..........\n",
      "[CV]  svm__C=1.0, svm__penalty=l1, tfidf__ngram_range=(1, 1), total=   0.5s\n",
      "[CV] svm__C=1.0, svm__penalty=l1, tfidf__ngram_range=(1, 1) ..........\n",
      "[CV]  svm__C=1.0, svm__penalty=l1, tfidf__ngram_range=(1, 1), total=   0.5s\n",
      "[CV] svm__C=1.0, svm__penalty=l1, tfidf__ngram_range=(1, 1) ..........\n",
      "[CV]  svm__C=1.0, svm__penalty=l1, tfidf__ngram_range=(1, 1), total=   0.5s\n",
      "[CV] svm__C=1.0, svm__penalty=l1, tfidf__ngram_range=(1, 1) ..........\n",
      "[CV]  svm__C=1.0, svm__penalty=l1, tfidf__ngram_range=(1, 1), total=   0.5s\n",
      "[CV] svm__C=1.0, svm__penalty=l1, tfidf__ngram_range=(1, 1) ..........\n",
      "[CV]  svm__C=1.0, svm__penalty=l1, tfidf__ngram_range=(1, 1), total=   0.5s\n",
      "[CV] svm__C=1.0, svm__penalty=l1, tfidf__ngram_range=(1, 2) ..........\n",
      "[CV]  svm__C=1.0, svm__penalty=l1, tfidf__ngram_range=(1, 2), total=   2.3s\n",
      "[CV] svm__C=1.0, svm__penalty=l1, tfidf__ngram_range=(1, 2) ..........\n",
      "[CV]  svm__C=1.0, svm__penalty=l1, tfidf__ngram_range=(1, 2), total=   2.3s\n",
      "[CV] svm__C=1.0, svm__penalty=l1, tfidf__ngram_range=(1, 2) ..........\n",
      "[CV]  svm__C=1.0, svm__penalty=l1, tfidf__ngram_range=(1, 2), total=   2.3s\n",
      "[CV] svm__C=1.0, svm__penalty=l1, tfidf__ngram_range=(1, 2) ..........\n",
      "[CV]  svm__C=1.0, svm__penalty=l1, tfidf__ngram_range=(1, 2), total=   2.3s\n",
      "[CV] svm__C=1.0, svm__penalty=l1, tfidf__ngram_range=(1, 2) ..........\n",
      "[CV]  svm__C=1.0, svm__penalty=l1, tfidf__ngram_range=(1, 2), total=   2.3s\n",
      "[CV] svm__C=1.0, svm__penalty=l2, tfidf__ngram_range=(1, 1) ..........\n",
      "[CV]  svm__C=1.0, svm__penalty=l2, tfidf__ngram_range=(1, 1), total=   0.7s\n",
      "[CV] svm__C=1.0, svm__penalty=l2, tfidf__ngram_range=(1, 1) ..........\n",
      "[CV]  svm__C=1.0, svm__penalty=l2, tfidf__ngram_range=(1, 1), total=   0.7s\n",
      "[CV] svm__C=1.0, svm__penalty=l2, tfidf__ngram_range=(1, 1) ..........\n",
      "[CV]  svm__C=1.0, svm__penalty=l2, tfidf__ngram_range=(1, 1), total=   0.7s\n",
      "[CV] svm__C=1.0, svm__penalty=l2, tfidf__ngram_range=(1, 1) ..........\n",
      "[CV]  svm__C=1.0, svm__penalty=l2, tfidf__ngram_range=(1, 1), total=   0.7s\n",
      "[CV] svm__C=1.0, svm__penalty=l2, tfidf__ngram_range=(1, 1) ..........\n",
      "[CV]  svm__C=1.0, svm__penalty=l2, tfidf__ngram_range=(1, 1), total=   0.7s\n",
      "[CV] svm__C=1.0, svm__penalty=l2, tfidf__ngram_range=(1, 2) ..........\n",
      "[CV]  svm__C=1.0, svm__penalty=l2, tfidf__ngram_range=(1, 2), total=   3.2s\n",
      "[CV] svm__C=1.0, svm__penalty=l2, tfidf__ngram_range=(1, 2) ..........\n",
      "[CV]  svm__C=1.0, svm__penalty=l2, tfidf__ngram_range=(1, 2), total=   3.1s\n",
      "[CV] svm__C=1.0, svm__penalty=l2, tfidf__ngram_range=(1, 2) ..........\n",
      "[CV]  svm__C=1.0, svm__penalty=l2, tfidf__ngram_range=(1, 2), total=   3.1s\n",
      "[CV] svm__C=1.0, svm__penalty=l2, tfidf__ngram_range=(1, 2) ..........\n",
      "[CV]  svm__C=1.0, svm__penalty=l2, tfidf__ngram_range=(1, 2), total=   3.1s\n",
      "[CV] svm__C=1.0, svm__penalty=l2, tfidf__ngram_range=(1, 2) ..........\n",
      "[CV]  svm__C=1.0, svm__penalty=l2, tfidf__ngram_range=(1, 2), total=   3.2s\n",
      "[CV] svm__C=1.5, svm__penalty=l1, tfidf__ngram_range=(1, 1) ..........\n",
      "[CV]  svm__C=1.5, svm__penalty=l1, tfidf__ngram_range=(1, 1), total=   0.5s\n",
      "[CV] svm__C=1.5, svm__penalty=l1, tfidf__ngram_range=(1, 1) ..........\n",
      "[CV]  svm__C=1.5, svm__penalty=l1, tfidf__ngram_range=(1, 1), total=   0.5s\n",
      "[CV] svm__C=1.5, svm__penalty=l1, tfidf__ngram_range=(1, 1) ..........\n",
      "[CV]  svm__C=1.5, svm__penalty=l1, tfidf__ngram_range=(1, 1), total=   0.5s\n",
      "[CV] svm__C=1.5, svm__penalty=l1, tfidf__ngram_range=(1, 1) ..........\n",
      "[CV]  svm__C=1.5, svm__penalty=l1, tfidf__ngram_range=(1, 1), total=   0.5s\n",
      "[CV] svm__C=1.5, svm__penalty=l1, tfidf__ngram_range=(1, 1) ..........\n",
      "[CV]  svm__C=1.5, svm__penalty=l1, tfidf__ngram_range=(1, 1), total=   0.5s\n",
      "[CV] svm__C=1.5, svm__penalty=l1, tfidf__ngram_range=(1, 2) ..........\n",
      "[CV]  svm__C=1.5, svm__penalty=l1, tfidf__ngram_range=(1, 2), total=   2.3s\n",
      "[CV] svm__C=1.5, svm__penalty=l1, tfidf__ngram_range=(1, 2) ..........\n",
      "[CV]  svm__C=1.5, svm__penalty=l1, tfidf__ngram_range=(1, 2), total=   2.3s\n",
      "[CV] svm__C=1.5, svm__penalty=l1, tfidf__ngram_range=(1, 2) ..........\n",
      "[CV]  svm__C=1.5, svm__penalty=l1, tfidf__ngram_range=(1, 2), total=   2.3s\n",
      "[CV] svm__C=1.5, svm__penalty=l1, tfidf__ngram_range=(1, 2) ..........\n",
      "[CV]  svm__C=1.5, svm__penalty=l1, tfidf__ngram_range=(1, 2), total=   2.3s\n",
      "[CV] svm__C=1.5, svm__penalty=l1, tfidf__ngram_range=(1, 2) ..........\n",
      "[CV]  svm__C=1.5, svm__penalty=l1, tfidf__ngram_range=(1, 2), total=   2.3s\n",
      "[CV] svm__C=1.5, svm__penalty=l2, tfidf__ngram_range=(1, 1) ..........\n",
      "[CV]  svm__C=1.5, svm__penalty=l2, tfidf__ngram_range=(1, 1), total=   0.8s\n",
      "[CV] svm__C=1.5, svm__penalty=l2, tfidf__ngram_range=(1, 1) ..........\n",
      "[CV]  svm__C=1.5, svm__penalty=l2, tfidf__ngram_range=(1, 1), total=   0.8s\n",
      "[CV] svm__C=1.5, svm__penalty=l2, tfidf__ngram_range=(1, 1) ..........\n",
      "[CV]  svm__C=1.5, svm__penalty=l2, tfidf__ngram_range=(1, 1), total=   0.8s\n",
      "[CV] svm__C=1.5, svm__penalty=l2, tfidf__ngram_range=(1, 1) ..........\n",
      "[CV]  svm__C=1.5, svm__penalty=l2, tfidf__ngram_range=(1, 1), total=   0.8s\n",
      "[CV] svm__C=1.5, svm__penalty=l2, tfidf__ngram_range=(1, 1) ..........\n",
      "[CV]  svm__C=1.5, svm__penalty=l2, tfidf__ngram_range=(1, 1), total=   0.7s\n",
      "[CV] svm__C=1.5, svm__penalty=l2, tfidf__ngram_range=(1, 2) ..........\n",
      "[CV]  svm__C=1.5, svm__penalty=l2, tfidf__ngram_range=(1, 2), total=   3.2s\n",
      "[CV] svm__C=1.5, svm__penalty=l2, tfidf__ngram_range=(1, 2) ..........\n",
      "[CV]  svm__C=1.5, svm__penalty=l2, tfidf__ngram_range=(1, 2), total=   3.2s\n",
      "[CV] svm__C=1.5, svm__penalty=l2, tfidf__ngram_range=(1, 2) ..........\n"
     ]
    },
    {
     "name": "stdout",
     "output_type": "stream",
     "text": [
      "[CV]  svm__C=1.5, svm__penalty=l2, tfidf__ngram_range=(1, 2), total=   3.3s\n",
      "[CV] svm__C=1.5, svm__penalty=l2, tfidf__ngram_range=(1, 2) ..........\n",
      "[CV]  svm__C=1.5, svm__penalty=l2, tfidf__ngram_range=(1, 2), total=   3.2s\n",
      "[CV] svm__C=1.5, svm__penalty=l2, tfidf__ngram_range=(1, 2) ..........\n",
      "[CV]  svm__C=1.5, svm__penalty=l2, tfidf__ngram_range=(1, 2), total=   3.2s\n"
     ]
    },
    {
     "name": "stderr",
     "output_type": "stream",
     "text": [
      "[Parallel(n_jobs=1)]: Done  60 out of  60 | elapsed:  1.7min finished\n"
     ]
    }
   ],
   "source": [
    "# Tuning our Multinomial Naïve Bayes model\n",
    "from sklearn.pipeline import Pipeline\n",
    "from sklearn.model_selection import GridSearchCV\n",
    "from sklearn.svm import LinearSVC\n",
    "from sklearn.feature_extraction.text import TfidfVectorizer\n",
    "\n",
    "svm_pipeline = Pipeline([('tfidf', TfidfVectorizer()),\n",
    "                        ('svm', LinearSVC())\n",
    "                       ])\n",
    "\n",
    "### here we evaluate this on bigrams and unigrams tf-idf and change the alpha value of MNB\n",
    "\n",
    "param_grid = {'tfidf__ngram_range': [(1, 1), (1, 2)],\n",
    "              'svm__C': [0.5, 1.0, 1.5],\n",
    "              'svm__penalty': ['l1', 'l2']\n",
    "                }\n",
    "\n",
    "gs_svm = GridSearchCV(svm_pipeline, param_grid, cv=5, verbose=2)\n",
    "gs_svm = gs_svm.fit(train_corpus, train_label_names)"
   ]
  },
  {
   "cell_type": "code",
   "execution_count": 6,
   "metadata": {},
   "outputs": [
    {
     "data": {
      "text/plain": [
       "{'memory': None,\n",
       " 'steps': [('tfidf', TfidfVectorizer(ngram_range=(1, 2))),\n",
       "  ('svm', LinearSVC(C=1.5))],\n",
       " 'verbose': False,\n",
       " 'tfidf': TfidfVectorizer(ngram_range=(1, 2)),\n",
       " 'svm': LinearSVC(C=1.5),\n",
       " 'tfidf__analyzer': 'word',\n",
       " 'tfidf__binary': False,\n",
       " 'tfidf__decode_error': 'strict',\n",
       " 'tfidf__dtype': numpy.float64,\n",
       " 'tfidf__encoding': 'utf-8',\n",
       " 'tfidf__input': 'content',\n",
       " 'tfidf__lowercase': True,\n",
       " 'tfidf__max_df': 1.0,\n",
       " 'tfidf__max_features': None,\n",
       " 'tfidf__min_df': 1,\n",
       " 'tfidf__ngram_range': (1, 2),\n",
       " 'tfidf__norm': 'l2',\n",
       " 'tfidf__preprocessor': None,\n",
       " 'tfidf__smooth_idf': True,\n",
       " 'tfidf__stop_words': None,\n",
       " 'tfidf__strip_accents': None,\n",
       " 'tfidf__sublinear_tf': False,\n",
       " 'tfidf__token_pattern': '(?u)\\\\b\\\\w\\\\w+\\\\b',\n",
       " 'tfidf__tokenizer': None,\n",
       " 'tfidf__use_idf': True,\n",
       " 'tfidf__vocabulary': None,\n",
       " 'svm__C': 1.5,\n",
       " 'svm__class_weight': None,\n",
       " 'svm__dual': True,\n",
       " 'svm__fit_intercept': True,\n",
       " 'svm__intercept_scaling': 1,\n",
       " 'svm__loss': 'squared_hinge',\n",
       " 'svm__max_iter': 1000,\n",
       " 'svm__multi_class': 'ovr',\n",
       " 'svm__penalty': 'l2',\n",
       " 'svm__random_state': None,\n",
       " 'svm__tol': 0.0001,\n",
       " 'svm__verbose': 0}"
      ]
     },
     "execution_count": 6,
     "metadata": {},
     "output_type": "execute_result"
    }
   ],
   "source": [
    "gs_svm.best_estimator_.get_params()"
   ]
  },
  {
   "cell_type": "code",
   "execution_count": 7,
   "metadata": {},
   "outputs": [
    {
     "data": {
      "text/html": [
       "<div>\n",
       "<style scoped>\n",
       "    .dataframe tbody tr th:only-of-type {\n",
       "        vertical-align: middle;\n",
       "    }\n",
       "\n",
       "    .dataframe tbody tr th {\n",
       "        vertical-align: top;\n",
       "    }\n",
       "\n",
       "    .dataframe thead th {\n",
       "        text-align: right;\n",
       "    }\n",
       "</style>\n",
       "<table border=\"1\" class=\"dataframe\">\n",
       "  <thead>\n",
       "    <tr style=\"text-align: right;\">\n",
       "      <th></th>\n",
       "      <th>rank</th>\n",
       "      <th>params</th>\n",
       "      <th>cv score (mean)</th>\n",
       "      <th>cv score (std)</th>\n",
       "    </tr>\n",
       "  </thead>\n",
       "  <tbody>\n",
       "    <tr>\n",
       "      <th>11</th>\n",
       "      <td>1</td>\n",
       "      <td>{'svm__C': 1.5, 'svm__penalty': 'l2', 'tfidf__ngram_range': (1, 2)}</td>\n",
       "      <td>0.980092</td>\n",
       "      <td>0.003830</td>\n",
       "    </tr>\n",
       "    <tr>\n",
       "      <th>7</th>\n",
       "      <td>2</td>\n",
       "      <td>{'svm__C': 1.0, 'svm__penalty': 'l2', 'tfidf__ngram_range': (1, 2)}</td>\n",
       "      <td>0.979485</td>\n",
       "      <td>0.003830</td>\n",
       "    </tr>\n",
       "    <tr>\n",
       "      <th>2</th>\n",
       "      <td>3</td>\n",
       "      <td>{'svm__C': 0.5, 'svm__penalty': 'l2', 'tfidf__ngram_range': (1, 1)}</td>\n",
       "      <td>0.978392</td>\n",
       "      <td>0.004603</td>\n",
       "    </tr>\n",
       "    <tr>\n",
       "      <th>6</th>\n",
       "      <td>4</td>\n",
       "      <td>{'svm__C': 1.0, 'svm__penalty': 'l2', 'tfidf__ngram_range': (1, 1)}</td>\n",
       "      <td>0.978271</td>\n",
       "      <td>0.005187</td>\n",
       "    </tr>\n",
       "    <tr>\n",
       "      <th>10</th>\n",
       "      <td>5</td>\n",
       "      <td>{'svm__C': 1.5, 'svm__penalty': 'l2', 'tfidf__ngram_range': (1, 1)}</td>\n",
       "      <td>0.978150</td>\n",
       "      <td>0.004560</td>\n",
       "    </tr>\n",
       "    <tr>\n",
       "      <th>3</th>\n",
       "      <td>6</td>\n",
       "      <td>{'svm__C': 0.5, 'svm__penalty': 'l2', 'tfidf__ngram_range': (1, 2)}</td>\n",
       "      <td>0.978149</td>\n",
       "      <td>0.004480</td>\n",
       "    </tr>\n",
       "    <tr>\n",
       "      <th>0</th>\n",
       "      <td>7</td>\n",
       "      <td>{'svm__C': 0.5, 'svm__penalty': 'l1', 'tfidf__ngram_range': (1, 1)}</td>\n",
       "      <td>NaN</td>\n",
       "      <td>NaN</td>\n",
       "    </tr>\n",
       "    <tr>\n",
       "      <th>1</th>\n",
       "      <td>8</td>\n",
       "      <td>{'svm__C': 0.5, 'svm__penalty': 'l1', 'tfidf__ngram_range': (1, 2)}</td>\n",
       "      <td>NaN</td>\n",
       "      <td>NaN</td>\n",
       "    </tr>\n",
       "    <tr>\n",
       "      <th>4</th>\n",
       "      <td>9</td>\n",
       "      <td>{'svm__C': 1.0, 'svm__penalty': 'l1', 'tfidf__ngram_range': (1, 1)}</td>\n",
       "      <td>NaN</td>\n",
       "      <td>NaN</td>\n",
       "    </tr>\n",
       "    <tr>\n",
       "      <th>5</th>\n",
       "      <td>10</td>\n",
       "      <td>{'svm__C': 1.0, 'svm__penalty': 'l1', 'tfidf__ngram_range': (1, 2)}</td>\n",
       "      <td>NaN</td>\n",
       "      <td>NaN</td>\n",
       "    </tr>\n",
       "    <tr>\n",
       "      <th>8</th>\n",
       "      <td>11</td>\n",
       "      <td>{'svm__C': 1.5, 'svm__penalty': 'l1', 'tfidf__ngram_range': (1, 1)}</td>\n",
       "      <td>NaN</td>\n",
       "      <td>NaN</td>\n",
       "    </tr>\n",
       "    <tr>\n",
       "      <th>9</th>\n",
       "      <td>12</td>\n",
       "      <td>{'svm__C': 1.5, 'svm__penalty': 'l1', 'tfidf__ngram_range': (1, 2)}</td>\n",
       "      <td>NaN</td>\n",
       "      <td>NaN</td>\n",
       "    </tr>\n",
       "  </tbody>\n",
       "</table>\n",
       "</div>"
      ],
      "text/plain": [
       "    rank                                                               params  \\\n",
       "11     1  {'svm__C': 1.5, 'svm__penalty': 'l2', 'tfidf__ngram_range': (1, 2)}   \n",
       "7      2  {'svm__C': 1.0, 'svm__penalty': 'l2', 'tfidf__ngram_range': (1, 2)}   \n",
       "2      3  {'svm__C': 0.5, 'svm__penalty': 'l2', 'tfidf__ngram_range': (1, 1)}   \n",
       "6      4  {'svm__C': 1.0, 'svm__penalty': 'l2', 'tfidf__ngram_range': (1, 1)}   \n",
       "10     5  {'svm__C': 1.5, 'svm__penalty': 'l2', 'tfidf__ngram_range': (1, 1)}   \n",
       "3      6  {'svm__C': 0.5, 'svm__penalty': 'l2', 'tfidf__ngram_range': (1, 2)}   \n",
       "0      7  {'svm__C': 0.5, 'svm__penalty': 'l1', 'tfidf__ngram_range': (1, 1)}   \n",
       "1      8  {'svm__C': 0.5, 'svm__penalty': 'l1', 'tfidf__ngram_range': (1, 2)}   \n",
       "4      9  {'svm__C': 1.0, 'svm__penalty': 'l1', 'tfidf__ngram_range': (1, 1)}   \n",
       "5     10  {'svm__C': 1.0, 'svm__penalty': 'l1', 'tfidf__ngram_range': (1, 2)}   \n",
       "8     11  {'svm__C': 1.5, 'svm__penalty': 'l1', 'tfidf__ngram_range': (1, 1)}   \n",
       "9     12  {'svm__C': 1.5, 'svm__penalty': 'l1', 'tfidf__ngram_range': (1, 2)}   \n",
       "\n",
       "    cv score (mean)  cv score (std)  \n",
       "11         0.980092        0.003830  \n",
       "7          0.979485        0.003830  \n",
       "2          0.978392        0.004603  \n",
       "6          0.978271        0.005187  \n",
       "10         0.978150        0.004560  \n",
       "3          0.978149        0.004480  \n",
       "0               NaN             NaN  \n",
       "1               NaN             NaN  \n",
       "4               NaN             NaN  \n",
       "5               NaN             NaN  \n",
       "8               NaN             NaN  \n",
       "9               NaN             NaN  "
      ]
     },
     "execution_count": 7,
     "metadata": {},
     "output_type": "execute_result"
    }
   ],
   "source": [
    "cv_results = gs_svm.cv_results_\n",
    "results_df = pd.DataFrame({'rank': cv_results['rank_test_score'],\n",
    "                           'params': cv_results['params'],\n",
    "                           'cv score (mean)': cv_results['mean_test_score'],\n",
    "                           'cv score (std)': cv_results['std_test_score']}\n",
    "              )\n",
    "results_df = results_df.sort_values(by=['rank'], ascending=True)\n",
    "pd.set_option('display.max_colwidth', 100)\n",
    "results_df"
   ]
  },
  {
   "cell_type": "code",
   "execution_count": 8,
   "metadata": {},
   "outputs": [
    {
     "name": "stdout",
     "output_type": "stream",
     "text": [
      "Test Accuracy : 0.9807419994335882\n"
     ]
    }
   ],
   "source": [
    "best_svm_test_score = gs_svm.score(test_corpus, test_label_names)\n",
    "print('Test Accuracy :', best_svm_test_score)"
   ]
  },
  {
   "cell_type": "markdown",
   "metadata": {},
   "source": [
    "### model performance evaluation with Linear SVC"
   ]
  },
  {
   "cell_type": "markdown",
   "metadata": {},
   "source": [
    "#### testing with new data"
   ]
  },
  {
   "cell_type": "code",
   "execution_count": 10,
   "metadata": {
    "lines_to_end_of_cell_marker": 2
   },
   "outputs": [],
   "source": [
    "test_text = 'Food and drink supplies in the UK face more disruption after the end of the Brexit transition period than they did from Covid, the industry has said. There are 14 [working] days to go, the Food and Drink Federations (FDF) chief executive, Ian Wright, told MPs. How on earth can traders prepare in this environment he added. Noting that rules for sending goods from Welsh ports to Northern Ireland had only just been published, he said: Its too late, baby. Uncertainty over a deal and new border checks would make it difficult to guarantee the movement of food through ports without delays, he said. Mr Wright was giving evidence to the Commons business committee on Brexit preparedness. He said there was a big concern that the problems would erode the confidence of shoppers in the supply chain, adding: It has done very well over Covid and shoppers will expect the same thing over Brexit, and they may not see it. PM: Sweet reason can get us to post-Brexit deal NI food supply warnings taken very seriously No clue We cant be absolutely certain about the movement of food from the EU to the UK from 1 January for two reasons, Mr Wright said. One is checks at the border. The other is tariffs, and the problem with tariffs is, we dont know what they will be. Mr Wright added: With just 14 working days to go, we have no clue whats going to happen in terms of whether we do or dont face tariffs. And that isnt just a big imposition. Its a binary choice as to whether you do business in most cases. My members will not know whether theyre exporting their products after 1 January, or whether theyll be able to afford to import them and charge the price that the tariff will dictate. Mr Wright warned that while he expected Kent and Operation Brock to work \"reasonably well\", he was less confident about ports such as Holyhead, with goods heading to Northern Ireland.'\n",
    "\n",
    "test_text = 'The guitarist and producer said record labels retain up to 82 of the royalties generated from music played on services like Spotify Apple Music and Amazon Music calling the system just ridiculous And he accused the major labels of deliberately withholding money from artists I look at the record labels as my partners And the interesting thing is that every single time Ive audited my partners I find money Every single time And sometimes its staggering the amount of money Rodgers whose credits include Chics Le Freak Madonnas Like A Virgin and David Bowies Lets Dance said the industry needed to change the way streaming payments are calculated Currently each play of a song is counted as a sale which gives labels the lions share of the income Rodgers argued that a stream was more like a radio broadcast or a licence of the recording which would give artists 50 of the royalties Labels have unilaterally decided that a stream is considered a sale because it maximises their profits he said Artists and songwriters need to update clauses in their contracts to reflect the true nature of how their songs are being consumed  which is via a licence It is something that people are borrowing from the streaming services Live music eviscerated However Rodgers was optimistic that labels streaming services writers and musicians could negotiate a fairer deal and asked MPs to make the UK a leader in regulating the streaming market This can now be a great paradigm shift for songwriters and artists all over the world he said Mercurynominated jazz musician Soweto Kinch said the timing of the inquiry was particularly important after Covid19 had eviscerated the live music scene He said streaming had placed a particular strain on niche musical genres and experimental musicians because of an overriding focus on chart music Wed never have a Kate Bush or a David Bowie in todays music ecology because its very risk averse he said You are making songs for playlists you are not taking the incredible musical risks that Bowie might have taken years ago Nadine Shah IMAGE COPYRIGHTGETTY IMAGES image caption Nadine Shah said she had considered giving up music because earning a living was so difficult The inquiry continues into 2021 and will hear the perspectives of industry experts artists and record labels as well as streaming platforms themselves At the first session last month musician Nadine Shah told MPs many fellow musicians were afraid to give evidence because we do not want to lose favour with the streaming platforms and the major labels In response committee chair Julian Knight MP later warned companies against interfering with the inquiry We have been told by many different sources that some of the people interested in speaking to us have become reluctant to do so because they fear action may be taken against them if they speak in public Knight said I would like to say that we would take a very dim view if we had any evidence of anyone interfering with witnesses to one of our inquiries No one should suffer any detriment for speaking to a parliamentary committee and anyone deliberately causing harm to one of our witnesses would be in danger of being in contempt of this House This committee will brook no such interference and will not hesitate to name and shame anyone proven to be involved in such activity'"
   ]
  },
  {
   "cell_type": "code",
   "execution_count": 11,
   "metadata": {},
   "outputs": [
    {
     "data": {
      "text/plain": [
       "0    The guitarist and producer said record labels retain up to 82 of the royalties generated from mu...\n",
       "dtype: object"
      ]
     },
     "execution_count": 11,
     "metadata": {},
     "output_type": "execute_result"
    }
   ],
   "source": [
    "pd.Series(test_text)"
   ]
  },
  {
   "cell_type": "code",
   "execution_count": 12,
   "metadata": {},
   "outputs": [],
   "source": [
    "import nltk\n",
    "stopword_list = nltk.corpus.stopwords.words('english')\n",
    "# just to keep negation if any in bi-grams\n",
    "stopword_list.remove('no')\n",
    "stopword_list.remove('not')\n",
    "\n",
    "norm_corpus = tn.normalize_corpus(corpus=pd.Series(test_text), html_stripping=True,\n",
    "                                 contraction_expansion=True, accented_char_removal=True,\n",
    "                                 text_lower_case=True, text_lemmatization=True,\n",
    "                                 text_stemming=False, special_char_removal=True,\n",
    "                                 remove_digits=True, stopword_removal=True,\n",
    "                                 stopwords=stopword_list)"
   ]
  },
  {
   "cell_type": "code",
   "execution_count": 13,
   "metadata": {},
   "outputs": [
    {
     "data": {
      "text/plain": [
       "array(['entertainment'], dtype=object)"
      ]
     },
     "execution_count": 13,
     "metadata": {},
     "output_type": "execute_result"
    }
   ],
   "source": [
    "gs_svm.best_estimator_.predict(np.array(norm_corpus))"
   ]
  },
  {
   "cell_type": "code",
   "execution_count": 14,
   "metadata": {},
   "outputs": [],
   "source": [
    "# Extract test document row numbers\n",
    "train_idx, test_idx = train_test_split(np.array(range(len(data_df['text']))), test_size=0.30, random_state=42)"
   ]
  },
  {
   "cell_type": "code",
   "execution_count": 15,
   "metadata": {},
   "outputs": [
    {
     "data": {
      "text/html": [
       "<div>\n",
       "<style scoped>\n",
       "    .dataframe tbody tr th:only-of-type {\n",
       "        vertical-align: middle;\n",
       "    }\n",
       "\n",
       "    .dataframe tbody tr th {\n",
       "        vertical-align: top;\n",
       "    }\n",
       "\n",
       "    .dataframe thead th {\n",
       "        text-align: right;\n",
       "    }\n",
       "</style>\n",
       "<table border=\"1\" class=\"dataframe\">\n",
       "  <thead>\n",
       "    <tr style=\"text-align: right;\">\n",
       "      <th></th>\n",
       "      <th>category</th>\n",
       "      <th>text</th>\n",
       "      <th>clean text</th>\n",
       "      <th>category label</th>\n",
       "      <th>Predicted Name</th>\n",
       "    </tr>\n",
       "  </thead>\n",
       "  <tbody>\n",
       "    <tr>\n",
       "      <th>5204</th>\n",
       "      <td>politics</td>\n",
       "      <td>With a strategy crafted three years ago, the BJP has set itself a target of winning at least 23 ...</td>\n",
       "      <td>strategy craft three year ago bjp set target win least lok sabha seat senior party leader say bj...</td>\n",
       "      <td>2</td>\n",
       "      <td>politics</td>\n",
       "    </tr>\n",
       "    <tr>\n",
       "      <th>5990</th>\n",
       "      <td>tech</td>\n",
       "      <td>The company pulled 513 Pages, Groups and accounts for engaging in coordinated inauthentic behavi...</td>\n",
       "      <td>company pull page groups account engage coordinated inauthentic behaviour part multiple network ...</td>\n",
       "      <td>4</td>\n",
       "      <td>tech</td>\n",
       "    </tr>\n",
       "    <tr>\n",
       "      <th>200</th>\n",
       "      <td>business</td>\n",
       "      <td>profits stall at china s lenovo profits at chinese computer firm lenovo have stood still amid sl...</td>\n",
       "      <td>profit stall china lenovo profit chinese computer firm lenovo stand still amid slow demand home ...</td>\n",
       "      <td>0</td>\n",
       "      <td>business</td>\n",
       "    </tr>\n",
       "    <tr>\n",
       "      <th>2755</th>\n",
       "      <td>entertainment</td>\n",
       "      <td>The guitarist with US rock band Korn has quit the music business, saying he made the decision a...</td>\n",
       "      <td>guitarist us rock band korn quit music business say make decision experience religious awakening...</td>\n",
       "      <td>1</td>\n",
       "      <td>entertainment</td>\n",
       "    </tr>\n",
       "    <tr>\n",
       "      <th>8233</th>\n",
       "      <td>tech</td>\n",
       "      <td>Brodsky's suit also mentions that once enabled, Apple's two-factor authentication \"imposes an ex...</td>\n",
       "      <td>brodskys suit also mention enable apple two factor authentication impose extraneous logging proc...</td>\n",
       "      <td>4</td>\n",
       "      <td>tech</td>\n",
       "    </tr>\n",
       "  </tbody>\n",
       "</table>\n",
       "</div>"
      ],
      "text/plain": [
       "           category  \\\n",
       "5204       politics   \n",
       "5990           tech   \n",
       "200        business   \n",
       "2755  entertainment   \n",
       "8233           tech   \n",
       "\n",
       "                                                                                                     text  \\\n",
       "5204  With a strategy crafted three years ago, the BJP has set itself a target of winning at least 23 ...   \n",
       "5990  The company pulled 513 Pages, Groups and accounts for engaging in coordinated inauthentic behavi...   \n",
       "200   profits stall at china s lenovo profits at chinese computer firm lenovo have stood still amid sl...   \n",
       "2755   The guitarist with US rock band Korn has quit the music business, saying he made the decision a...   \n",
       "8233  Brodsky's suit also mentions that once enabled, Apple's two-factor authentication \"imposes an ex...   \n",
       "\n",
       "                                                                                               clean text  \\\n",
       "5204  strategy craft three year ago bjp set target win least lok sabha seat senior party leader say bj...   \n",
       "5990  company pull page groups account engage coordinated inauthentic behaviour part multiple network ...   \n",
       "200   profit stall china lenovo profit chinese computer firm lenovo stand still amid slow demand home ...   \n",
       "2755  guitarist us rock band korn quit music business say make decision experience religious awakening...   \n",
       "8233  brodskys suit also mention enable apple two factor authentication impose extraneous logging proc...   \n",
       "\n",
       "      category label Predicted Name  \n",
       "5204               2       politics  \n",
       "5990               4           tech  \n",
       "200                0       business  \n",
       "2755               1  entertainment  \n",
       "8233               4           tech  "
      ]
     },
     "execution_count": 15,
     "metadata": {},
     "output_type": "execute_result"
    }
   ],
   "source": [
    "svm_predictions = gs_svm.predict(test_corpus)\n",
    "test_df = data_df.iloc[test_idx]\n",
    "test_df['Predicted Name'] = svm_predictions\n",
    "test_df.head()"
   ]
  },
  {
   "cell_type": "code",
   "execution_count": 16,
   "metadata": {},
   "outputs": [
    {
     "data": {
      "text/html": [
       "<div>\n",
       "<style scoped>\n",
       "    .dataframe tbody tr th:only-of-type {\n",
       "        vertical-align: middle;\n",
       "    }\n",
       "\n",
       "    .dataframe tbody tr th {\n",
       "        vertical-align: top;\n",
       "    }\n",
       "\n",
       "    .dataframe thead th {\n",
       "        text-align: right;\n",
       "    }\n",
       "</style>\n",
       "<table border=\"1\" class=\"dataframe\">\n",
       "  <thead>\n",
       "    <tr style=\"text-align: right;\">\n",
       "      <th></th>\n",
       "      <th>category</th>\n",
       "      <th>text</th>\n",
       "      <th>clean text</th>\n",
       "      <th>category label</th>\n",
       "      <th>Predicted Name</th>\n",
       "    </tr>\n",
       "  </thead>\n",
       "  <tbody>\n",
       "    <tr>\n",
       "      <th>10704</th>\n",
       "      <td>business</td>\n",
       "      <td>Raamdeo Agrawal said there are chances that a stable government will be elected in upcoming general elections\\n\\n\\nThe gains in Indian stocks after a breakout in tensions with Pakistan may have ro...</td>\n",
       "      <td>raamdeo agrawal say chance stable government elect upcoming general election gain indian stock breakout tension pakistan may room run accord veteran stock picker prime minister narendra modis stro...</td>\n",
       "      <td>0</td>\n",
       "      <td>politics</td>\n",
       "    </tr>\n",
       "    <tr>\n",
       "      <th>2507</th>\n",
       "      <td>business</td>\n",
       "      <td>Venezuelan authorities have identified more than 500 farms, including 56 large estates, as idle as it continues with its controversial land reform policy.  Under a 2001 land law, the government c...</td>\n",
       "      <td>venezuelan authority identify farm include large estate idle continue controversial land reform policy land law government tax seize unused farm site farm yet inspect state national land institute...</td>\n",
       "      <td>0</td>\n",
       "      <td>politics</td>\n",
       "    </tr>\n",
       "    <tr>\n",
       "      <th>427</th>\n",
       "      <td>business</td>\n",
       "      <td>venezuela identifies  idle  farms venezuelan authorities have identified more than 500 farms  including 56 large estates  as idle as it continues with its controversial land reform policy.  under ...</td>\n",
       "      <td>venezuela identify idle farm venezuelan authority identify farm include large estate idle continue controversial land reform policy land law government tax seize unused farm site farm yet inspect ...</td>\n",
       "      <td>0</td>\n",
       "      <td>politics</td>\n",
       "    </tr>\n",
       "  </tbody>\n",
       "</table>\n",
       "</div>"
      ],
      "text/plain": [
       "       category  \\\n",
       "10704  business   \n",
       "2507   business   \n",
       "427    business   \n",
       "\n",
       "                                                                                                                                                                                                          text  \\\n",
       "10704  Raamdeo Agrawal said there are chances that a stable government will be elected in upcoming general elections\\n\\n\\nThe gains in Indian stocks after a breakout in tensions with Pakistan may have ro...   \n",
       "2507    Venezuelan authorities have identified more than 500 farms, including 56 large estates, as idle as it continues with its controversial land reform policy.  Under a 2001 land law, the government c...   \n",
       "427    venezuela identifies  idle  farms venezuelan authorities have identified more than 500 farms  including 56 large estates  as idle as it continues with its controversial land reform policy.  under ...   \n",
       "\n",
       "                                                                                                                                                                                                    clean text  \\\n",
       "10704  raamdeo agrawal say chance stable government elect upcoming general election gain indian stock breakout tension pakistan may room run accord veteran stock picker prime minister narendra modis stro...   \n",
       "2507   venezuelan authority identify farm include large estate idle continue controversial land reform policy land law government tax seize unused farm site farm yet inspect state national land institute...   \n",
       "427    venezuela identify idle farm venezuelan authority identify farm include large estate idle continue controversial land reform policy land law government tax seize unused farm site farm yet inspect ...   \n",
       "\n",
       "       category label Predicted Name  \n",
       "10704               0       politics  \n",
       "2507                0       politics  \n",
       "427                 0       politics  "
      ]
     },
     "execution_count": 16,
     "metadata": {},
     "output_type": "execute_result"
    }
   ],
   "source": [
    "pd.set_option('display.max_colwidth', 200)\n",
    "res_df = (test_df[(test_df['category'] == 'business')\n",
    "                  & (test_df['Predicted Name'] == 'politics')])\n",
    "res_df"
   ]
  },
  {
   "cell_type": "code",
   "execution_count": null,
   "metadata": {},
   "outputs": [],
   "source": []
  },
  {
   "cell_type": "markdown",
   "metadata": {},
   "source": [
    "# save model"
   ]
  },
  {
   "cell_type": "code",
   "execution_count": 17,
   "metadata": {},
   "outputs": [],
   "source": [
    "import pickle\n",
    "filename = 'CLASSIFIER/model/best_linear_cvs.pkl'\n",
    "pickle.dump(gs_svm.best_estimator_, open(filename, 'wb'))"
   ]
  },
  {
   "cell_type": "markdown",
   "metadata": {},
   "source": [
    "# load model"
   ]
  },
  {
   "cell_type": "code",
   "execution_count": 18,
   "metadata": {},
   "outputs": [],
   "source": [
    "import pickle\n",
    "filename = 'CLASSIFIER/model/best_linear_cvs.pkl'\n",
    "loaded_model = pickle.load(open(filename, 'rb'))"
   ]
  },
  {
   "cell_type": "code",
   "execution_count": 19,
   "metadata": {},
   "outputs": [
    {
     "data": {
      "text/plain": [
       "Pipeline(steps=[('tfidf', TfidfVectorizer(ngram_range=(1, 2))),\n",
       "                ('svm', LinearSVC(C=1.5))])"
      ]
     },
     "execution_count": 19,
     "metadata": {},
     "output_type": "execute_result"
    }
   ],
   "source": [
    "loaded_model"
   ]
  },
  {
   "cell_type": "code",
   "execution_count": 20,
   "metadata": {},
   "outputs": [],
   "source": [
    "text = 'Boris Johnson will fly to Brussels later for talks on a post-Brexit deal with the European Commission President Ursula von der Leyen. Time is running out to reach a deal before 31 December, when the UK stops following EU trading rules. The pair will hold talks over dinner, after negotiations between officials ended in deadlock. Major disagreements remain on fishing rights, business competition rules and how a deal will be policed. At the dinner, expected to begin at 19:00 GMT, Prime Minister Johnson will work through a list of the major sticking points with Mrs von der Leyen, who is representing the leaders of the 27 EU nations. A UK government source said progress at a political level may allow the negotiations - between the UK\\'s Lord Frost and EU\\'s Michel Barnier - to resume over the coming days.'\n",
    "\n",
    "import nltk\n",
    "stopword_list = nltk.corpus.stopwords.words('english')\n",
    "# just to keep negation if any in bi-grams\n",
    "stopword_list.remove('no')\n",
    "stopword_list.remove('not')\n",
    "norm_corpus = tn.normalize_corpus(corpus=pd.Series(text), html_stripping=True,\n",
    "                                 contraction_expansion=True, accented_char_removal=True,\n",
    "                                 text_lower_case=True, text_lemmatization=True,\n",
    "                                 text_stemming=False, special_char_removal=True,\n",
    "                                 remove_digits=True, stopword_removal=True,\n",
    "                                 stopwords=stopword_list)"
   ]
  },
  {
   "cell_type": "code",
   "execution_count": 21,
   "metadata": {},
   "outputs": [],
   "source": [
    "results = loaded_model.predict(np.array(norm_corpus))"
   ]
  },
  {
   "cell_type": "code",
   "execution_count": 22,
   "metadata": {},
   "outputs": [
    {
     "data": {
      "text/plain": [
       "'politics'"
      ]
     },
     "execution_count": 22,
     "metadata": {},
     "output_type": "execute_result"
    }
   ],
   "source": [
    "results[0]"
   ]
  },
  {
   "cell_type": "code",
   "execution_count": null,
   "metadata": {},
   "outputs": [],
   "source": []
  }
 ],
 "metadata": {
  "jupytext": {
   "encoding": "# -*- coding: utf-8 -*-",
   "formats": "ipynb,py:light",
   "text_representation": {
    "extension": ".py",
    "format_name": "light",
    "format_version": "1.5",
    "jupytext_version": "1.3.2"
   }
  },
  "kernelspec": {
   "display_name": "Python 3",
   "language": "python",
   "name": "python3"
  },
  "language_info": {
   "codemirror_mode": {
    "name": "ipython",
    "version": 3
   },
   "file_extension": ".py",
   "mimetype": "text/x-python",
   "name": "python",
   "nbconvert_exporter": "python",
   "pygments_lexer": "ipython3",
   "version": "3.7.4"
  }
 },
 "nbformat": 4,
 "nbformat_minor": 2
}
